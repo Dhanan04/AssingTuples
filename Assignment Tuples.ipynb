{
 "cells": [
  {
   "cell_type": "markdown",
   "id": "58ff327a",
   "metadata": {},
   "source": [
    "Ans1.) \n",
    "\n",
    "The characteristics of tuples are, Tuples are ordered collections of elements, meaning the order in which elements are added to the tuple is preserved. Tuples can contain elements of different data types (e.g., integers, floats, strings) within the same tuple.tuples are indexed starting from 0, so you can access individual elements of a tuple using their index.\n",
    "The key characteristic of tuples is their immutability. Once a tuple is created, its elements cannot be changed, added, or removed. However, we can create new tuples by combining existing tuples.\n",
    "Tuples can be iterated over using loops or other iterable operations like list comprehensions."
   ]
  },
  {
   "cell_type": "code",
   "execution_count": null,
   "id": "ba6275b9",
   "metadata": {},
   "outputs": [],
   "source": []
  },
  {
   "cell_type": "markdown",
   "id": "c8677088",
   "metadata": {},
   "source": [
    "Ans2.) \n",
    "\n",
    "The two tuples method in python is count & Index \n",
    "\n",
    "count(): This method returns the number of occurrences of a specified value in the tuple\n",
    "Index(): This method returns the index of the first occurrence of a specified value in the tuple\n",
    "\n",
    "Tuples have only two built-in methods compared to lists because tuples are immutable, meaning they cannot be modified after creation. Since tuples cannot be changed, methods that involve modifying the contents of the tuple, such as append(), remove(), or pop(), are not applicable."
   ]
  },
  {
   "cell_type": "code",
   "execution_count": 2,
   "id": "e853b40f",
   "metadata": {},
   "outputs": [
    {
     "name": "stdout",
     "output_type": "stream",
     "text": [
      "List after removing duplicates: [1, 2, 3, 4]\n"
     ]
    }
   ],
   "source": [
    "# Ans 3.) \n",
    "\n",
    "my_list = [1, 1, 1, 2, 1, 3, 1, 4, 2, 1, 2, 2, 2, 3, 2, 4, 3, 1, 3, 2, 3, 3, 3, 4, 4, 1, 4, 2, 4, 3, 4, 4]\n",
    "\n",
    "# Convert list to set to remove duplicates\n",
    "unique_items_set = set(my_list)\n",
    "\n",
    "# Convert set back to list if needed\n",
    "unique_list = list(unique_items_set)\n",
    "\n",
    "print(\"List after removing duplicates:\", unique_list)"
   ]
  },
  {
   "cell_type": "code",
   "execution_count": null,
   "id": "2c58f69d",
   "metadata": {},
   "outputs": [],
   "source": []
  },
  {
   "cell_type": "markdown",
   "id": "0f52d54c",
   "metadata": {},
   "source": [
    "#Ans4.)\n",
    "\n",
    "#Union() Method:\n",
    "\n",
    "The union() method returns a new set containing all the unique elements from the original set(s) as well as the set(s) passed as arguments. It does not modify the original set(s) but instead returns a new set. If there are duplicate elements between sets, they are only included once in the resulting set\n",
    "\n",
    "\n",
    "#Udate() Method:\n",
    "\n",
    "The update() method modifies the original set by adding elements from another set(s) or any iterable. It directly modifies the set on which it is called. If there are duplicate elements between sets, they are retained in the original set.\n",
    "\n",
    "The union() method returns a new set without modifying the original sets, while the update() method modifies the original set by adding elements from other sets or iterables."
   ]
  },
  {
   "cell_type": "code",
   "execution_count": null,
   "id": "3cf4d1ed",
   "metadata": {},
   "outputs": [],
   "source": []
  },
  {
   "cell_type": "markdown",
   "id": "5e04dd9a",
   "metadata": {},
   "source": [
    "#Ans5.)\n",
    "\n",
    "A dictionary in Python is a collection of key-value pairs where each key is associated with a corresponding value. Dictionaries are mutable, meaning they can be modified after creation. They provide an efficient way to store and retrieve data using keys rather than numeric indices.\n",
    "\n"
   ]
  },
  {
   "cell_type": "code",
   "execution_count": 3,
   "id": "f826fbdc",
   "metadata": {},
   "outputs": [
    {
     "name": "stdout",
     "output_type": "stream",
     "text": [
      "Name: John\n",
      "Age: 20\n",
      "Grade: A\n"
     ]
    }
   ],
   "source": [
    "# Creating a dictionary\n",
    "student = {\n",
    "    \"name\": \"John\",\n",
    "    \"age\": 20,\n",
    "    \"grade\": \"A\"\n",
    "}\n",
    "\n",
    "# Accessing values using keys\n",
    "print(\"Name:\", student[\"name\"])  # Output: John\n",
    "print(\"Age:\", student[\"age\"])    # Output: 20\n",
    "print(\"Grade:\", student[\"grade\"])  # Output: A\n"
   ]
  },
  {
   "cell_type": "markdown",
   "id": "a1f67846",
   "metadata": {},
   "source": [
    "As of Python 3.7, dictionaries retain the insertion order of their keys. This means that when we iterate over a dictionary or access its keys, values, or key-value pairs, they are returned in the same order in which they were inserted. Therefore, dictionaries are considered ordered in Python 3.7 and later versions."
   ]
  },
  {
   "cell_type": "code",
   "execution_count": null,
   "id": "d07171f6",
   "metadata": {},
   "outputs": [],
   "source": []
  },
  {
   "cell_type": "markdown",
   "id": "c54ca156",
   "metadata": {},
   "source": [
    "#Ans 6.)\n",
    "Yes, we can create nested dictionaries in Python. A nested dictionary is a dictionary that contains other dictionaries as values. This allows for organizing data in a hierarchical structure"
   ]
  },
  {
   "cell_type": "code",
   "execution_count": 4,
   "id": "b155f6c5",
   "metadata": {},
   "outputs": [
    {
     "name": "stdout",
     "output_type": "stream",
     "text": [
      "John's details: {'age': 30, 'department': 'HR', 'salary': 50000}\n",
      "Alice's department: Marketing\n",
      "Bob's salary: 70000\n"
     ]
    }
   ],
   "source": [
    "# Creating a nested dictionary\n",
    "employee = {\n",
    "    \"John\": {\"age\": 30, \"department\": \"HR\", \"salary\": 50000},\n",
    "    \"Alice\": {\"age\": 25, \"department\": \"Marketing\", \"salary\": 60000},\n",
    "    \"Bob\": {\"age\": 35, \"department\": \"IT\", \"salary\": 70000}\n",
    "}\n",
    "\n",
    "# Accessing values in the nested dictionary\n",
    "print(\"John's details:\", employee[\"John\"])  # Output: {'age': 30, 'department': 'HR', 'salary': 50000}\n",
    "print(\"Alice's department:\", employee[\"Alice\"][\"department\"])  # Output: Marketing\n",
    "print(\"Bob's salary:\", employee[\"Bob\"][\"salary\"])  # Output: 70000\n"
   ]
  },
  {
   "cell_type": "code",
   "execution_count": 5,
   "id": "c0ece039",
   "metadata": {},
   "outputs": [],
   "source": [
    "#Ans 7)"
   ]
  },
  {
   "cell_type": "code",
   "execution_count": 7,
   "id": "b78821ed",
   "metadata": {},
   "outputs": [
    {
     "name": "stdout",
     "output_type": "stream",
     "text": [
      "{'language': 'Python', 'course': 'Data Science Masters', 'topics': ['Python', 'Machine Learning', 'Deep Learning']}\n"
     ]
    }
   ],
   "source": [
    "# Given dictionary\n",
    "dict1 = {'language': 'Python', 'course': 'Data Science Masters'}\n",
    "\n",
    "# Using setdefault() method to add key 'topics' and its value if it doesn't exist\n",
    "dict1.setdefault('topics', ['Python', 'Machine Learning', 'Deep Learning'])\n",
    "\n",
    "print(dict1)\n"
   ]
  },
  {
   "cell_type": "code",
   "execution_count": null,
   "id": "e2dd4e61",
   "metadata": {},
   "outputs": [],
   "source": []
  },
  {
   "cell_type": "markdown",
   "id": "ccdee175",
   "metadata": {},
   "source": [
    "#Ans 8.) \n",
    "\n",
    "In Python dictionaries, there are three types of view objects that provide dynamic views of the dictionary's keys, values, and key-value pairs.\n",
    "\n",
    "dict_keys: A view object that displays a dynamic view of the keys in the dictionary.\n",
    "dict_values: A view object that displays a dynamic view of the values in the dictionary.\n",
    "dict_items: A view object that displays a dynamic view of the key-value pairs in the dictionary."
   ]
  },
  {
   "cell_type": "code",
   "execution_count": 8,
   "id": "1204e6da",
   "metadata": {},
   "outputs": [
    {
     "name": "stdout",
     "output_type": "stream",
     "text": [
      "dict_keys: dict_keys(['Sport', 'Teams'])\n",
      "dict_values: dict_values(['Cricket', ['India', 'Australia', 'England', 'South Africa', 'Sri Lanka', 'New Zealand']])\n",
      "dict_items: dict_items([('Sport', 'Cricket'), ('Teams', ['India', 'Australia', 'England', 'South Africa', 'Sri Lanka', 'New Zealand'])])\n"
     ]
    }
   ],
   "source": [
    "# Given dictionary\n",
    "dict1 = {'Sport': 'Cricket', 'Teams': ['India', 'Australia', 'England', 'South Africa', 'Sri Lanka', 'New Zealand']}\n",
    "\n",
    "# Displaying dict_keys object\n",
    "keys_view = dict1.keys()\n",
    "print(\"dict_keys:\", keys_view)\n",
    "\n",
    "# Displaying dict_values object\n",
    "values_view = dict1.values()\n",
    "print(\"dict_values:\", values_view)\n",
    "\n",
    "# Displaying dict_items object\n",
    "items_view = dict1.items()\n",
    "print(\"dict_items:\", items_view)\n"
   ]
  },
  {
   "cell_type": "code",
   "execution_count": null,
   "id": "5912b79b",
   "metadata": {},
   "outputs": [],
   "source": []
  }
 ],
 "metadata": {
  "kernelspec": {
   "display_name": "Python 3 (ipykernel)",
   "language": "python",
   "name": "python3"
  },
  "language_info": {
   "codemirror_mode": {
    "name": "ipython",
    "version": 3
   },
   "file_extension": ".py",
   "mimetype": "text/x-python",
   "name": "python",
   "nbconvert_exporter": "python",
   "pygments_lexer": "ipython3",
   "version": "3.11.4"
  }
 },
 "nbformat": 4,
 "nbformat_minor": 5
}
